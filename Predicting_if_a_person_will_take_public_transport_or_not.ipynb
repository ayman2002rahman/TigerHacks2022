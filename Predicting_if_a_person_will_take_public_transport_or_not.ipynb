{
  "cells": [
    {
      "cell_type": "code",
      "execution_count": 4,
      "metadata": {
        "id": "XicLtdamiuEJ"
      },
      "outputs": [],
      "source": [
        "import pandas as pd"
      ]
    },
    {
      "cell_type": "code",
      "execution_count": 5,
      "metadata": {
        "id": "C3nlwXOJiDk6"
      },
      "outputs": [],
      "source": [
        "data = pd.read_csv('transport2.csv')"
      ]
    },
    {
      "cell_type": "code",
      "execution_count": 6,
      "metadata": {
        "colab": {
          "base_uri": "https://localhost:8080/"
        },
        "id": "2N5qVcvruB99",
        "outputId": "b4aa39ad-e3a6-4327-badf-905d218e449e"
      },
      "outputs": [
        {
          "output_type": "execute_result",
          "data": {
            "text/plain": [
              "Index(['num', 'age', 'sexe', 'sitfam', 'Principal means', 'Car', 'Bike',\n",
              "       'Public transport', 'revenu'],\n",
              "      dtype='object')"
            ]
          },
          "metadata": {},
          "execution_count": 6
        }
      ],
      "source": [
        "data.columns"
      ]
    },
    {
      "cell_type": "code",
      "execution_count": 7,
      "metadata": {
        "id": "ua4Ux5ZhjWC6"
      },
      "outputs": [],
      "source": [
        "from sklearn.preprocessing import LabelEncoder, OneHotEncoder, MinMaxScaler"
      ]
    },
    {
      "cell_type": "code",
      "execution_count": 8,
      "metadata": {
        "id": "1x022SvOphuu"
      },
      "outputs": [],
      "source": [
        "from sklearn.impute import SimpleImputer\n",
        "from sklearn.compose import ColumnTransformer\n",
        "from sklearn.pipeline import Pipeline"
      ]
    },
    {
      "cell_type": "code",
      "execution_count": 9,
      "metadata": {
        "id": "EMopZ7cijSgE"
      },
      "outputs": [],
      "source": [
        "encoder = LabelEncoder()\n",
        "data[\"sexe\"] = encoder.fit_transform(data[\"sexe\"])"
      ]
    },
    {
      "cell_type": "code",
      "execution_count": 10,
      "metadata": {
        "id": "F9MNZ5Z6jfgs"
      },
      "outputs": [],
      "source": [
        "data = data.apply(lambda x: x.fillna(x.median()),axis=0)"
      ]
    },
    {
      "cell_type": "code",
      "execution_count": 11,
      "metadata": {
        "id": "BeGzKvpYjxMd"
      },
      "outputs": [],
      "source": [
        "X = data.drop(['Public transport', 'num', 'Principal means'], axis=1)"
      ]
    },
    {
      "cell_type": "code",
      "execution_count": 12,
      "metadata": {
        "id": "E49ipoyQkQO8"
      },
      "outputs": [],
      "source": [
        "y = data['Public transport']"
      ]
    },
    {
      "cell_type": "code",
      "execution_count": 13,
      "metadata": {
        "id": "D8uhWueBkjOq"
      },
      "outputs": [],
      "source": [
        "from sklearn.model_selection import train_test_split"
      ]
    },
    {
      "cell_type": "code",
      "execution_count": 14,
      "metadata": {
        "id": "BNV06wuskUtV"
      },
      "outputs": [],
      "source": [
        "X_train, X_test, y_train, y_test = train_test_split(X, y, test_size=0.2)"
      ]
    },
    {
      "cell_type": "code",
      "execution_count": 15,
      "metadata": {
        "id": "wHWWj5e3pudH"
      },
      "outputs": [],
      "source": [
        "numeric_columns = X_train.select_dtypes(exclude='object').columns\n",
        "categorical_columns = X_train.select_dtypes(include='object').columns"
      ]
    },
    {
      "cell_type": "code",
      "execution_count": 16,
      "metadata": {
        "id": "rgOPm4W_p2Ax"
      },
      "outputs": [],
      "source": [
        "numeric_features = Pipeline([\n",
        "    ('handlingmissingvalues',SimpleImputer(strategy='median')),\n",
        "    ('scaling', MinMaxScaler())\n",
        "])\n",
        "\n",
        "categorical_features = Pipeline([\n",
        "    ('handlingmissingvalues',SimpleImputer(strategy='most_frequent')),\n",
        "    ('encoding', OneHotEncoder()),\n",
        "    ('scaling', MinMaxScaler())\n",
        "])\n",
        "\n",
        "processing = ColumnTransformer([\n",
        "    ('numeric', numeric_features, numeric_columns),\n",
        "    ('categorical', categorical_features, categorical_columns)\n",
        "])"
      ]
    },
    {
      "cell_type": "code",
      "execution_count": 17,
      "metadata": {
        "id": "ahrEND-LH-Z2"
      },
      "outputs": [],
      "source": [
        "def prepare_model(algorithm):\n",
        "    model = Pipeline(steps= [\n",
        "        ('processing',processing),\n",
        "        ('modeling', algorithm)\n",
        "    ])\n",
        "    model.fit(X_train, y_train)\n",
        "    return model"
      ]
    },
    {
      "cell_type": "code",
      "execution_count": 18,
      "metadata": {
        "id": "n4fkQjB2Ihpc"
      },
      "outputs": [],
      "source": [
        "from sklearn.linear_model import LogisticRegression\n",
        "from sklearn.ensemble import AdaBoostClassifier\n",
        "from sklearn.neighbors import KNeighborsClassifier"
      ]
    },
    {
      "cell_type": "code",
      "execution_count": 19,
      "metadata": {
        "id": "HCCZrJbCIeSe"
      },
      "outputs": [],
      "source": [
        "my_model = prepare_model(AdaBoostClassifier())"
      ]
    },
    {
      "cell_type": "code",
      "execution_count": 20,
      "metadata": {
        "colab": {
          "base_uri": "https://localhost:8080/"
        },
        "id": "LJ10douQI56M",
        "outputId": "eeb1d1c9-330b-4673-b740-bc92495f074f"
      },
      "outputs": [
        {
          "output_type": "execute_result",
          "data": {
            "text/plain": [
              "0.6"
            ]
          },
          "metadata": {},
          "execution_count": 20
        }
      ],
      "source": [
        "my_model.score(X_test, y_test)"
      ]
    },
    {
      "cell_type": "code",
      "execution_count": 21,
      "metadata": {
        "colab": {
          "base_uri": "https://localhost:8080/"
        },
        "id": "pzoMvGFnAC3W",
        "outputId": "50005f48-7055-4bcb-e8f3-7944313f37d0"
      },
      "outputs": [
        {
          "output_type": "execute_result",
          "data": {
            "text/plain": [
              "['model_scaler.pkl']"
            ]
          },
          "metadata": {},
          "execution_count": 21
        }
      ],
      "source": [
        "import joblib\n",
        "joblib.dump(my_model, 'model_scaler.pkl')"
      ]
    },
    {
      "cell_type": "code",
      "execution_count": 22,
      "metadata": {
        "id": "_HqtupevoKQQ"
      },
      "outputs": [],
      "source": [
        "import numpy as np"
      ]
    },
    {
      "cell_type": "code",
      "execution_count": 23,
      "metadata": {
        "colab": {
          "base_uri": "https://localhost:8080/"
        },
        "id": "cO_CgNqXnCNt",
        "outputId": "14cb2b22-d0fa-49f5-bc83-a2f4c551b466"
      },
      "outputs": [
        {
          "output_type": "execute_result",
          "data": {
            "text/plain": [
              "array([0])"
            ]
          },
          "metadata": {},
          "execution_count": 23
        }
      ],
      "source": [
        "input = pd.DataFrame(np.array([45, 0, 3, 1, 1, 1500.0]).reshape(1, -1), columns = ['age', 'sexe', 'sitfam', 'Car', 'Bike', 'revenu'])\n",
        "my_model.predict(input)"
      ]
    },
    {
      "cell_type": "code",
      "execution_count": 24,
      "metadata": {
        "id": "M2NN_h6hn96T"
      },
      "outputs": [],
      "source": [
        "def return_preds(age, sex, num_fam_members, car, bike, revenue):\n",
        "  input = pd.DataFrame(np.array([age, sex, num_fam_members, car, bike, revenue]).reshape(1, -1), columns = ['age', 'sexe', 'sitfam', 'Car', 'Bike', 'revenu'])\n",
        "  prediction = my_model.predict(input)\n",
        "\n",
        "  return prediction"
      ]
    },
    {
      "cell_type": "code",
      "execution_count": 25,
      "metadata": {
        "colab": {
          "base_uri": "https://localhost:8080/"
        },
        "id": "MBmjG6w0was-",
        "outputId": "121bbeee-4764-48cf-c946-c362087552fd"
      },
      "outputs": [
        {
          "output_type": "execute_result",
          "data": {
            "text/plain": [
              "array([0])"
            ]
          },
          "metadata": {},
          "execution_count": 25
        }
      ],
      "source": [
        "return_preds(35, 0, 10, 1, 0, 150)"
      ]
    },
    {
      "cell_type": "code",
      "execution_count": 27,
      "metadata": {
        "id": "kq0VpbB64jFq"
      },
      "outputs": [],
      "source": []
    }
  ],
  "metadata": {
    "colab": {
      "provenance": []
    },
    "gpuClass": "standard",
    "kernelspec": {
      "display_name": "Python 3",
      "name": "python3"
    },
    "language_info": {
      "name": "python"
    }
  },
  "nbformat": 4,
  "nbformat_minor": 0
}